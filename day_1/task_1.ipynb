{
 "cells": [
  {
   "cell_type": "code",
   "execution_count": null,
   "metadata": {},
   "outputs": [],
   "source": [
    "import pandas as pd"
   ]
  },
  {
   "cell_type": "code",
   "execution_count": null,
   "metadata": {},
   "outputs": [],
   "source": [
    "input = pd.read_csv(\"./input.txt\", \n",
    "                    names = {'value':0})"
   ]
  },
  {
   "cell_type": "code",
   "execution_count": null,
   "metadata": {},
   "outputs": [],
   "source": [
    "input['increase'] =  input['value'] > input['value'].shift(1)\n",
    "input.head(10)"
   ]
  },
  {
   "cell_type": "code",
   "execution_count": null,
   "metadata": {},
   "outputs": [],
   "source": [
    "input.increase.sum()"
   ]
  },
  {
   "cell_type": "code",
   "execution_count": null,
   "metadata": {},
   "outputs": [],
   "source": [
    "input['sum_3'] = input['value'].rolling(3).sum()\n",
    "input['increase_3'] = (input['sum_3'] > input['sum_3'].shift(1))\n",
    "input.head(10)"
   ]
  },
  {
   "cell_type": "code",
   "execution_count": null,
   "metadata": {},
   "outputs": [],
   "source": [
    "input.increase_3.sum()"
   ]
  }
 ],
 "metadata": {
  "interpreter": {
   "hash": "65cb19fabd090adedc5633910ebe2e56b1ecd4ee7ec6b8e55fac9732e7fc4f7c"
  },
  "kernelspec": {
   "display_name": "Python 3.8.12 64-bit ('advent-of-code': conda)",
   "language": "python",
   "name": "python3"
  },
  "language_info": {
   "codemirror_mode": {
    "name": "ipython",
    "version": 3
   },
   "file_extension": ".py",
   "mimetype": "text/x-python",
   "name": "python",
   "nbconvert_exporter": "python",
   "pygments_lexer": "ipython3",
   "version": "3.8.12"
  },
  "orig_nbformat": 4
 },
 "nbformat": 4,
 "nbformat_minor": 2
}
